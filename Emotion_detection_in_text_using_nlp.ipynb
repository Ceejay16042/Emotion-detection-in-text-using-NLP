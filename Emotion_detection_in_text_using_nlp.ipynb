{
  "nbformat": 4,
  "nbformat_minor": 0,
  "metadata": {
    "colab": {
      "provenance": [],
      "gpuType": "T4"
    },
    "kernelspec": {
      "name": "python3",
      "display_name": "Python 3"
    },
    "language_info": {
      "name": "python"
    },
    "accelerator": "GPU"
  },
  "cells": [
    {
      "cell_type": "code",
      "source": [
        "!pip install neattext gensim"
      ],
      "metadata": {
        "colab": {
          "base_uri": "https://localhost:8080/"
        },
        "id": "fn9I2EwfJ3xy",
        "outputId": "c5f6ac73-3ec9-4841-f805-8548fa48c8bc"
      },
      "execution_count": 1,
      "outputs": [
        {
          "output_type": "stream",
          "name": "stdout",
          "text": [
            "Collecting neattext\n",
            "  Downloading neattext-0.1.3-py3-none-any.whl (114 kB)\n",
            "\u001b[?25l     \u001b[90m━━━━━━━━━━━━━━━━━━━━━━━━━━━━━━━━━━━━━━━━\u001b[0m \u001b[32m0.0/114.7 kB\u001b[0m \u001b[31m?\u001b[0m eta \u001b[36m-:--:--\u001b[0m\r\u001b[2K     \u001b[91m━━━━━━━━━━━━━━━━━━━━━━━━━━━━━━━━\u001b[0m\u001b[90m╺\u001b[0m\u001b[90m━━━━━━━\u001b[0m \u001b[32m92.2/114.7 kB\u001b[0m \u001b[31m3.1 MB/s\u001b[0m eta \u001b[36m0:00:01\u001b[0m\r\u001b[2K     \u001b[90m━━━━━━━━━━━━━━━━━━━━━━━━━━━━━━━━━━━━━━━━\u001b[0m \u001b[32m114.7/114.7 kB\u001b[0m \u001b[31m3.0 MB/s\u001b[0m eta \u001b[36m0:00:00\u001b[0m\n",
            "\u001b[?25hRequirement already satisfied: gensim in /usr/local/lib/python3.10/dist-packages (4.3.2)\n",
            "Requirement already satisfied: numpy>=1.18.5 in /usr/local/lib/python3.10/dist-packages (from gensim) (1.23.5)\n",
            "Requirement already satisfied: scipy>=1.7.0 in /usr/local/lib/python3.10/dist-packages (from gensim) (1.11.3)\n",
            "Requirement already satisfied: smart-open>=1.8.1 in /usr/local/lib/python3.10/dist-packages (from gensim) (6.4.0)\n",
            "Installing collected packages: neattext\n",
            "Successfully installed neattext-0.1.3\n"
          ]
        }
      ]
    },
    {
      "cell_type": "markdown",
      "source": [
        "### Project flow:\n",
        "1. Data Acquisition\n",
        "2. Data Splitting: The dataset for the emotion detection project underwent division into training, testing, and validation sets.\n",
        "2. Data visualization: Utilizing the seaborn library for data visualization to gain insights into the different sentiment levels within the dataset.\n",
        "3. Data Preprocessing: Various preprocessing techniques were applied using the neattext library in the Natural Language Processing project. The preprocessing techniques include:\n",
        "\n",
        "  + Data normalization\n",
        "  + Removal of HTML tags from text\n",
        "  + Removal of emails from text\n",
        "  + Conversion of text to lowercase\n",
        "\n",
        "5. Utilized the Gensim API package in Python to generate a weighted matrix during the model building phase, facilitating the extraction of semantic information from texts.\n",
        "6. Model building using different RNN techniques such as LSTM, GRU, and CUDNN\n",
        "7. Performing model evaluation to identify the best-performing model.\n",
        "8. Evaluating the predictive performance of the model.\n",
        "\n",
        "\n",
        "\n",
        "\n",
        "\n"
      ],
      "metadata": {
        "id": "nLnnalC0cvhd"
      }
    },
    {
      "cell_type": "code",
      "source": [],
      "metadata": {
        "id": "7EnQDa3acqbB"
      },
      "execution_count": 1,
      "outputs": []
    },
    {
      "cell_type": "code",
      "execution_count": 2,
      "metadata": {
        "id": "NTqwDBo4FPkF"
      },
      "outputs": [],
      "source": [
        "import numpy as np\n",
        "import pandas as pd\n",
        "import tensorflow as tf\n",
        "import itertools\n",
        "import seaborn as sns\n",
        "import matplotlib.pyplot as plt\n",
        "import neattext.functions as nfx\n",
        "from sklearn.preprocessing import LabelEncoder\n",
        "from tensorflow.keras.preprocessing.text import Tokenizer\n",
        "from tensorflow.keras.preprocessing.sequence import pad_sequences\n",
        "from tensorflow.keras.utils import to_categorical\n",
        "import gensim.downloader as gendownload\n",
        "from tensorflow.keras.optimizers import Optimizer\n",
        "from tensorflow.compat.v1.keras.layers import CuDNNLSTM, CuDNNGRU\n",
        "from sklearn.metrics import classification_report"
      ]
    },
    {
      "cell_type": "code",
      "source": [
        "#reading in the data\n",
        "train_data = pd.read_csv('/content/train.txt', names=['Input', 'Sentiment'],\n",
        "                         sep=';', encoding='utf-8' )\n",
        "test_data = pd.read_csv('/content/test.txt', names=['Input', 'Sentiment'],\n",
        "                        sep=';', encoding='utf-8')\n",
        "validation_data = pd.read_csv('/content/val.txt', names=['Input', 'Sentiment'],\n",
        "                              sep=';', encoding='utf-8')"
      ],
      "metadata": {
        "id": "RT9a8SauJjY4"
      },
      "execution_count": 3,
      "outputs": []
    },
    {
      "cell_type": "code",
      "source": [
        "train_data.head(10)"
      ],
      "metadata": {
        "colab": {
          "base_uri": "https://localhost:8080/",
          "height": 363
        },
        "id": "pqNNoa1hLHHA",
        "outputId": "49d0f6b0-c172-4938-9d6d-e0b1b2861d38"
      },
      "execution_count": 4,
      "outputs": [
        {
          "output_type": "execute_result",
          "data": {
            "text/plain": [
              "                                               Input Sentiment\n",
              "0                            i didnt feel humiliated   sadness\n",
              "1  i can go from feeling so hopeless to so damned...   sadness\n",
              "2   im grabbing a minute to post i feel greedy wrong     anger\n",
              "3  i am ever feeling nostalgic about the fireplac...      love\n",
              "4                               i am feeling grouchy     anger\n",
              "5  ive been feeling a little burdened lately wasn...   sadness\n",
              "6  ive been taking or milligrams or times recomme...  surprise\n",
              "7  i feel as confused about life as a teenager or...      fear\n",
              "8  i have been with petronas for years i feel tha...       joy\n",
              "9                                i feel romantic too      love"
            ],
            "text/html": [
              "\n",
              "  <div id=\"df-dc1c001e-85ef-4ef0-808b-d0907d9ff9be\" class=\"colab-df-container\">\n",
              "    <div>\n",
              "<style scoped>\n",
              "    .dataframe tbody tr th:only-of-type {\n",
              "        vertical-align: middle;\n",
              "    }\n",
              "\n",
              "    .dataframe tbody tr th {\n",
              "        vertical-align: top;\n",
              "    }\n",
              "\n",
              "    .dataframe thead th {\n",
              "        text-align: right;\n",
              "    }\n",
              "</style>\n",
              "<table border=\"1\" class=\"dataframe\">\n",
              "  <thead>\n",
              "    <tr style=\"text-align: right;\">\n",
              "      <th></th>\n",
              "      <th>Input</th>\n",
              "      <th>Sentiment</th>\n",
              "    </tr>\n",
              "  </thead>\n",
              "  <tbody>\n",
              "    <tr>\n",
              "      <th>0</th>\n",
              "      <td>i didnt feel humiliated</td>\n",
              "      <td>sadness</td>\n",
              "    </tr>\n",
              "    <tr>\n",
              "      <th>1</th>\n",
              "      <td>i can go from feeling so hopeless to so damned...</td>\n",
              "      <td>sadness</td>\n",
              "    </tr>\n",
              "    <tr>\n",
              "      <th>2</th>\n",
              "      <td>im grabbing a minute to post i feel greedy wrong</td>\n",
              "      <td>anger</td>\n",
              "    </tr>\n",
              "    <tr>\n",
              "      <th>3</th>\n",
              "      <td>i am ever feeling nostalgic about the fireplac...</td>\n",
              "      <td>love</td>\n",
              "    </tr>\n",
              "    <tr>\n",
              "      <th>4</th>\n",
              "      <td>i am feeling grouchy</td>\n",
              "      <td>anger</td>\n",
              "    </tr>\n",
              "    <tr>\n",
              "      <th>5</th>\n",
              "      <td>ive been feeling a little burdened lately wasn...</td>\n",
              "      <td>sadness</td>\n",
              "    </tr>\n",
              "    <tr>\n",
              "      <th>6</th>\n",
              "      <td>ive been taking or milligrams or times recomme...</td>\n",
              "      <td>surprise</td>\n",
              "    </tr>\n",
              "    <tr>\n",
              "      <th>7</th>\n",
              "      <td>i feel as confused about life as a teenager or...</td>\n",
              "      <td>fear</td>\n",
              "    </tr>\n",
              "    <tr>\n",
              "      <th>8</th>\n",
              "      <td>i have been with petronas for years i feel tha...</td>\n",
              "      <td>joy</td>\n",
              "    </tr>\n",
              "    <tr>\n",
              "      <th>9</th>\n",
              "      <td>i feel romantic too</td>\n",
              "      <td>love</td>\n",
              "    </tr>\n",
              "  </tbody>\n",
              "</table>\n",
              "</div>\n",
              "    <div class=\"colab-df-buttons\">\n",
              "\n",
              "  <div class=\"colab-df-container\">\n",
              "    <button class=\"colab-df-convert\" onclick=\"convertToInteractive('df-dc1c001e-85ef-4ef0-808b-d0907d9ff9be')\"\n",
              "            title=\"Convert this dataframe to an interactive table.\"\n",
              "            style=\"display:none;\">\n",
              "\n",
              "  <svg xmlns=\"http://www.w3.org/2000/svg\" height=\"24px\" viewBox=\"0 -960 960 960\">\n",
              "    <path d=\"M120-120v-720h720v720H120Zm60-500h600v-160H180v160Zm220 220h160v-160H400v160Zm0 220h160v-160H400v160ZM180-400h160v-160H180v160Zm440 0h160v-160H620v160ZM180-180h160v-160H180v160Zm440 0h160v-160H620v160Z\"/>\n",
              "  </svg>\n",
              "    </button>\n",
              "\n",
              "  <style>\n",
              "    .colab-df-container {\n",
              "      display:flex;\n",
              "      gap: 12px;\n",
              "    }\n",
              "\n",
              "    .colab-df-convert {\n",
              "      background-color: #E8F0FE;\n",
              "      border: none;\n",
              "      border-radius: 50%;\n",
              "      cursor: pointer;\n",
              "      display: none;\n",
              "      fill: #1967D2;\n",
              "      height: 32px;\n",
              "      padding: 0 0 0 0;\n",
              "      width: 32px;\n",
              "    }\n",
              "\n",
              "    .colab-df-convert:hover {\n",
              "      background-color: #E2EBFA;\n",
              "      box-shadow: 0px 1px 2px rgba(60, 64, 67, 0.3), 0px 1px 3px 1px rgba(60, 64, 67, 0.15);\n",
              "      fill: #174EA6;\n",
              "    }\n",
              "\n",
              "    .colab-df-buttons div {\n",
              "      margin-bottom: 4px;\n",
              "    }\n",
              "\n",
              "    [theme=dark] .colab-df-convert {\n",
              "      background-color: #3B4455;\n",
              "      fill: #D2E3FC;\n",
              "    }\n",
              "\n",
              "    [theme=dark] .colab-df-convert:hover {\n",
              "      background-color: #434B5C;\n",
              "      box-shadow: 0px 1px 3px 1px rgba(0, 0, 0, 0.15);\n",
              "      filter: drop-shadow(0px 1px 2px rgba(0, 0, 0, 0.3));\n",
              "      fill: #FFFFFF;\n",
              "    }\n",
              "  </style>\n",
              "\n",
              "    <script>\n",
              "      const buttonEl =\n",
              "        document.querySelector('#df-dc1c001e-85ef-4ef0-808b-d0907d9ff9be button.colab-df-convert');\n",
              "      buttonEl.style.display =\n",
              "        google.colab.kernel.accessAllowed ? 'block' : 'none';\n",
              "\n",
              "      async function convertToInteractive(key) {\n",
              "        const element = document.querySelector('#df-dc1c001e-85ef-4ef0-808b-d0907d9ff9be');\n",
              "        const dataTable =\n",
              "          await google.colab.kernel.invokeFunction('convertToInteractive',\n",
              "                                                    [key], {});\n",
              "        if (!dataTable) return;\n",
              "\n",
              "        const docLinkHtml = 'Like what you see? Visit the ' +\n",
              "          '<a target=\"_blank\" href=https://colab.research.google.com/notebooks/data_table.ipynb>data table notebook</a>'\n",
              "          + ' to learn more about interactive tables.';\n",
              "        element.innerHTML = '';\n",
              "        dataTable['output_type'] = 'display_data';\n",
              "        await google.colab.output.renderOutput(dataTable, element);\n",
              "        const docLink = document.createElement('div');\n",
              "        docLink.innerHTML = docLinkHtml;\n",
              "        element.appendChild(docLink);\n",
              "      }\n",
              "    </script>\n",
              "  </div>\n",
              "\n",
              "\n",
              "<div id=\"df-ead7af00-e11e-4332-a2dc-d0e70bbb3aa1\">\n",
              "  <button class=\"colab-df-quickchart\" onclick=\"quickchart('df-ead7af00-e11e-4332-a2dc-d0e70bbb3aa1')\"\n",
              "            title=\"Suggest charts\"\n",
              "            style=\"display:none;\">\n",
              "\n",
              "<svg xmlns=\"http://www.w3.org/2000/svg\" height=\"24px\"viewBox=\"0 0 24 24\"\n",
              "     width=\"24px\">\n",
              "    <g>\n",
              "        <path d=\"M19 3H5c-1.1 0-2 .9-2 2v14c0 1.1.9 2 2 2h14c1.1 0 2-.9 2-2V5c0-1.1-.9-2-2-2zM9 17H7v-7h2v7zm4 0h-2V7h2v10zm4 0h-2v-4h2v4z\"/>\n",
              "    </g>\n",
              "</svg>\n",
              "  </button>\n",
              "\n",
              "<style>\n",
              "  .colab-df-quickchart {\n",
              "      --bg-color: #E8F0FE;\n",
              "      --fill-color: #1967D2;\n",
              "      --hover-bg-color: #E2EBFA;\n",
              "      --hover-fill-color: #174EA6;\n",
              "      --disabled-fill-color: #AAA;\n",
              "      --disabled-bg-color: #DDD;\n",
              "  }\n",
              "\n",
              "  [theme=dark] .colab-df-quickchart {\n",
              "      --bg-color: #3B4455;\n",
              "      --fill-color: #D2E3FC;\n",
              "      --hover-bg-color: #434B5C;\n",
              "      --hover-fill-color: #FFFFFF;\n",
              "      --disabled-bg-color: #3B4455;\n",
              "      --disabled-fill-color: #666;\n",
              "  }\n",
              "\n",
              "  .colab-df-quickchart {\n",
              "    background-color: var(--bg-color);\n",
              "    border: none;\n",
              "    border-radius: 50%;\n",
              "    cursor: pointer;\n",
              "    display: none;\n",
              "    fill: var(--fill-color);\n",
              "    height: 32px;\n",
              "    padding: 0;\n",
              "    width: 32px;\n",
              "  }\n",
              "\n",
              "  .colab-df-quickchart:hover {\n",
              "    background-color: var(--hover-bg-color);\n",
              "    box-shadow: 0 1px 2px rgba(60, 64, 67, 0.3), 0 1px 3px 1px rgba(60, 64, 67, 0.15);\n",
              "    fill: var(--button-hover-fill-color);\n",
              "  }\n",
              "\n",
              "  .colab-df-quickchart-complete:disabled,\n",
              "  .colab-df-quickchart-complete:disabled:hover {\n",
              "    background-color: var(--disabled-bg-color);\n",
              "    fill: var(--disabled-fill-color);\n",
              "    box-shadow: none;\n",
              "  }\n",
              "\n",
              "  .colab-df-spinner {\n",
              "    border: 2px solid var(--fill-color);\n",
              "    border-color: transparent;\n",
              "    border-bottom-color: var(--fill-color);\n",
              "    animation:\n",
              "      spin 1s steps(1) infinite;\n",
              "  }\n",
              "\n",
              "  @keyframes spin {\n",
              "    0% {\n",
              "      border-color: transparent;\n",
              "      border-bottom-color: var(--fill-color);\n",
              "      border-left-color: var(--fill-color);\n",
              "    }\n",
              "    20% {\n",
              "      border-color: transparent;\n",
              "      border-left-color: var(--fill-color);\n",
              "      border-top-color: var(--fill-color);\n",
              "    }\n",
              "    30% {\n",
              "      border-color: transparent;\n",
              "      border-left-color: var(--fill-color);\n",
              "      border-top-color: var(--fill-color);\n",
              "      border-right-color: var(--fill-color);\n",
              "    }\n",
              "    40% {\n",
              "      border-color: transparent;\n",
              "      border-right-color: var(--fill-color);\n",
              "      border-top-color: var(--fill-color);\n",
              "    }\n",
              "    60% {\n",
              "      border-color: transparent;\n",
              "      border-right-color: var(--fill-color);\n",
              "    }\n",
              "    80% {\n",
              "      border-color: transparent;\n",
              "      border-right-color: var(--fill-color);\n",
              "      border-bottom-color: var(--fill-color);\n",
              "    }\n",
              "    90% {\n",
              "      border-color: transparent;\n",
              "      border-bottom-color: var(--fill-color);\n",
              "    }\n",
              "  }\n",
              "</style>\n",
              "\n",
              "  <script>\n",
              "    async function quickchart(key) {\n",
              "      const quickchartButtonEl =\n",
              "        document.querySelector('#' + key + ' button');\n",
              "      quickchartButtonEl.disabled = true;  // To prevent multiple clicks.\n",
              "      quickchartButtonEl.classList.add('colab-df-spinner');\n",
              "      try {\n",
              "        const charts = await google.colab.kernel.invokeFunction(\n",
              "            'suggestCharts', [key], {});\n",
              "      } catch (error) {\n",
              "        console.error('Error during call to suggestCharts:', error);\n",
              "      }\n",
              "      quickchartButtonEl.classList.remove('colab-df-spinner');\n",
              "      quickchartButtonEl.classList.add('colab-df-quickchart-complete');\n",
              "    }\n",
              "    (() => {\n",
              "      let quickchartButtonEl =\n",
              "        document.querySelector('#df-ead7af00-e11e-4332-a2dc-d0e70bbb3aa1 button');\n",
              "      quickchartButtonEl.style.display =\n",
              "        google.colab.kernel.accessAllowed ? 'block' : 'none';\n",
              "    })();\n",
              "  </script>\n",
              "</div>\n",
              "    </div>\n",
              "  </div>\n"
            ]
          },
          "metadata": {},
          "execution_count": 4
        }
      ]
    },
    {
      "cell_type": "code",
      "source": [
        "#Available sentiments\n",
        "train_data['Sentiment'].unique()"
      ],
      "metadata": {
        "colab": {
          "base_uri": "https://localhost:8080/"
        },
        "id": "UqQYWLfULK9z",
        "outputId": "42cc989f-3b71-4435-ad4c-c3708ea7348b"
      },
      "execution_count": 5,
      "outputs": [
        {
          "output_type": "execute_result",
          "data": {
            "text/plain": [
              "array(['sadness', 'anger', 'love', 'surprise', 'fear', 'joy'],\n",
              "      dtype=object)"
            ]
          },
          "metadata": {},
          "execution_count": 5
        }
      ]
    },
    {
      "cell_type": "code",
      "source": [
        "train_data['Sentiment'].value_counts()"
      ],
      "metadata": {
        "colab": {
          "base_uri": "https://localhost:8080/"
        },
        "id": "m0pq7rcALQzH",
        "outputId": "c5935d4d-e20c-4b18-e565-ac07141e5126"
      },
      "execution_count": 6,
      "outputs": [
        {
          "output_type": "execute_result",
          "data": {
            "text/plain": [
              "joy         5362\n",
              "sadness     4666\n",
              "anger       2159\n",
              "fear        1937\n",
              "love        1304\n",
              "surprise     572\n",
              "Name: Sentiment, dtype: int64"
            ]
          },
          "metadata": {},
          "execution_count": 6
        }
      ]
    },
    {
      "cell_type": "code",
      "source": [
        "#function to get the shapes of the train, test and validation dataset\n",
        "def dataset_shapes(data1, data2, data3):\n",
        "    training_data_shape = data1.shape\n",
        "    testing_data_shape = data2.shape\n",
        "    validation_data_shape = data3.shape\n",
        "\n",
        "    return f'train_data_shape : {training_data_shape}', f'test_data_shape : {testing_data_shape}', f'validation_data_shape : {validation_data.shape}'\n"
      ],
      "metadata": {
        "id": "StsEF6_TLZa7"
      },
      "execution_count": 7,
      "outputs": []
    },
    {
      "cell_type": "code",
      "source": [
        "#calling the function\n",
        "dataset_shapes(train_data, test_data, validation_data)"
      ],
      "metadata": {
        "colab": {
          "base_uri": "https://localhost:8080/"
        },
        "id": "GR5o6OyFL1ZU",
        "outputId": "6feca253-a716-491f-f27f-2f4baea68092"
      },
      "execution_count": 8,
      "outputs": [
        {
          "output_type": "execute_result",
          "data": {
            "text/plain": [
              "('train_data_shape : (16000, 2)',\n",
              " 'test_data_shape : (2000, 2)',\n",
              " 'validation_data_shape : (2000, 2)')"
            ]
          },
          "metadata": {},
          "execution_count": 8
        }
      ]
    },
    {
      "cell_type": "code",
      "source": [
        "#A graphical illustration showcasing the various sentiment levels in the training_dataset\n",
        "sns.countplot(x=train_data['Sentiment'])"
      ],
      "metadata": {
        "colab": {
          "base_uri": "https://localhost:8080/",
          "height": 466
        },
        "id": "GZZU31cbNoeE",
        "outputId": "0b64b399-d24a-41e7-b7fd-3dcbcb6eaa1c"
      },
      "execution_count": 9,
      "outputs": [
        {
          "output_type": "execute_result",
          "data": {
            "text/plain": [
              "<Axes: xlabel='Sentiment', ylabel='count'>"
            ]
          },
          "metadata": {},
          "execution_count": 9
        },
        {
          "output_type": "display_data",
          "data": {
            "text/plain": [
              "<Figure size 640x480 with 1 Axes>"
            ],
            "image/png": "[encoded data removed]"
          },
          "metadata": {}
        }
      ]
    },
    {
      "cell_type": "code",
      "source": [
        "dir(nfx)"
      ],
      "metadata": {
        "colab": {
          "base_uri": "https://localhost:8080/"
        },
        "id": "v1y0O7NCOEH7",
        "outputId": "cdc98447-d742-45ce-af04-ec15bdd37366"
      },
      "execution_count": 10,
      "outputs": [
        {
          "output_type": "execute_result",
          "data": {
            "text/plain": [
              "['BTC_ADDRESS_REGEX',\n",
              " 'CURRENCY_REGEX',\n",
              " 'CURRENCY_SYMB_REGEX',\n",
              " 'Counter',\n",
              " 'DATE_REGEX',\n",
              " 'EMAIL_REGEX',\n",
              " 'EMOJI_REGEX',\n",
              " 'HASTAG_REGEX',\n",
              " 'MASTERCard_REGEX',\n",
              " 'MD5_SHA_REGEX',\n",
              " 'MOST_COMMON_PUNCT_REGEX',\n",
              " 'NUMBERS_REGEX',\n",
              " 'PHONE_REGEX',\n",
              " 'PoBOX_REGEX',\n",
              " 'SPECIAL_CHARACTERS_REGEX',\n",
              " 'STOPWORDS',\n",
              " 'STOPWORDS_de',\n",
              " 'STOPWORDS_en',\n",
              " 'STOPWORDS_es',\n",
              " 'STOPWORDS_fr',\n",
              " 'STOPWORDS_ru',\n",
              " 'STOPWORDS_yo',\n",
              " 'STREET_ADDRESS_REGEX',\n",
              " 'TextFrame',\n",
              " 'URL_PATTERN',\n",
              " 'USER_HANDLES_REGEX',\n",
              " 'VISACard_REGEX',\n",
              " '__builtins__',\n",
              " '__cached__',\n",
              " '__doc__',\n",
              " '__file__',\n",
              " '__generate_text',\n",
              " '__loader__',\n",
              " '__name__',\n",
              " '__numbers_dict',\n",
              " '__package__',\n",
              " '__spec__',\n",
              " '_lex_richness_herdan',\n",
              " '_lex_richness_maas_ttr',\n",
              " 'clean_text',\n",
              " 'defaultdict',\n",
              " 'digit2words',\n",
              " 'extract_btc_address',\n",
              " 'extract_currencies',\n",
              " 'extract_currency_symbols',\n",
              " 'extract_dates',\n",
              " 'extract_emails',\n",
              " 'extract_emojis',\n",
              " 'extract_hashtags',\n",
              " 'extract_html_tags',\n",
              " 'extract_mastercard_addr',\n",
              " 'extract_md5sha',\n",
              " 'extract_numbers',\n",
              " 'extract_pattern',\n",
              " 'extract_phone_numbers',\n",
              " 'extract_postoffice_box',\n",
              " 'extract_shortwords',\n",
              " 'extract_special_characters',\n",
              " 'extract_stopwords',\n",
              " 'extract_street_address',\n",
              " 'extract_terms_in_bracket',\n",
              " 'extract_urls',\n",
              " 'extract_userhandles',\n",
              " 'extract_visacard_addr',\n",
              " 'fix_contractions',\n",
              " 'generate_sentence',\n",
              " 'hamming_distance',\n",
              " 'inverse_df',\n",
              " 'lexical_richness',\n",
              " 'markov_chain',\n",
              " 'math',\n",
              " 'nlargest',\n",
              " 'normalize',\n",
              " 'num2words',\n",
              " 'random',\n",
              " 're',\n",
              " 'read_txt',\n",
              " 'remove_accents',\n",
              " 'remove_bad_quotes',\n",
              " 'remove_btc_address',\n",
              " 'remove_currencies',\n",
              " 'remove_currency_symbols',\n",
              " 'remove_custom_pattern',\n",
              " 'remove_custom_words',\n",
              " 'remove_dates',\n",
              " 'remove_emails',\n",
              " 'remove_emojis',\n",
              " 'remove_hashtags',\n",
              " 'remove_html_tags',\n",
              " 'remove_mastercard_addr',\n",
              " 'remove_md5sha',\n",
              " 'remove_multiple_spaces',\n",
              " 'remove_non_ascii',\n",
              " 'remove_numbers',\n",
              " 'remove_phone_numbers',\n",
              " 'remove_postoffice_box',\n",
              " 'remove_puncts',\n",
              " 'remove_punctuations',\n",
              " 'remove_shortwords',\n",
              " 'remove_special_characters',\n",
              " 'remove_stopwords',\n",
              " 'remove_street_address',\n",
              " 'remove_terms_in_bracket',\n",
              " 'remove_urls',\n",
              " 'remove_userhandles',\n",
              " 'remove_visacard_addr',\n",
              " 'replace_bad_quotes',\n",
              " 'replace_currencies',\n",
              " 'replace_currency_symbols',\n",
              " 'replace_dates',\n",
              " 'replace_emails',\n",
              " 'replace_emojis',\n",
              " 'replace_numbers',\n",
              " 'replace_phone_numbers',\n",
              " 'replace_special_characters',\n",
              " 'replace_term',\n",
              " 'replace_urls',\n",
              " 'string',\n",
              " 'term_freq',\n",
              " 'to_txt',\n",
              " 'unicodedata',\n",
              " 'word_freq',\n",
              " 'word_length_freq']"
            ]
          },
          "metadata": {},
          "execution_count": 10
        }
      ]
    },
    {
      "cell_type": "code",
      "source": [
        "#data preprocessing using neattext module\n",
        "'''\n",
        "\n",
        "  Convertion of texts to lower cases\n",
        "  Removing stopwords\n",
        "  Remove emails\n",
        "  Elimate handles and urls\n",
        "  Tokenization of strings into words\n",
        "  Text norminalization to reduce randomness\n",
        "'''"
      ],
      "metadata": {
        "id": "m0W9vofFQsSP",
        "colab": {
          "base_uri": "https://localhost:8080/",
          "height": 52
        },
        "outputId": "a7fefa39-3f38-456a-96f5-9a3418aceae8"
      },
      "execution_count": 11,
      "outputs": [
        {
          "output_type": "execute_result",
          "data": {
            "text/plain": [
              "'\\n\\n  Convertion of texts to lower cases\\n  Removing stopwords\\n  Remove emails\\n  Elimate handles and urls\\n  Tokenization of strings into words\\n  Text norminalization to reduce randomness\\n'"
            ],
            "application/vnd.google.colaboratory.intrinsic+json": {
              "type": "string"
            }
          },
          "metadata": {},
          "execution_count": 11
        }
      ]
    },
    {
      "cell_type": "code",
      "source": [
        "def text_preprocessing(df, colname=''):\n",
        "  col = colname\n",
        "  #converting all texts in the dataset to lowercase\n",
        "  df[col] = df[col].apply(lambda x: str(x).lower())\n",
        "  #cleaning_text\n",
        "  df[col] = df[col].apply(lambda x: nfx.clean_text(x))\n",
        "  #norminalization of text\n",
        "  df[col] = df[col].apply(lambda x: nfx.normalize(x))\n",
        "  #Eliminating emails\n",
        "  df[col] = df[col].apply(lambda x: nfx.remove_emails(x))\n",
        "  #Remove htmltags\n",
        "  df[col] = df[col].apply(lambda x: nfx.remove_html_tags(x))\n",
        "  #Remove urls\n",
        "  df[col] = df[col].apply(lambda x: nfx.remove_urls(x))\n",
        "\n",
        "  return df"
      ],
      "metadata": {
        "id": "42py46iZSAOP"
      },
      "execution_count": 12,
      "outputs": []
    },
    {
      "cell_type": "code",
      "source": [
        "#cleaned text\n",
        "cleaned_train_data = text_preprocessing(train_data, 'Input')\n",
        "cleaned_train_data.sample(3)"
      ],
      "metadata": {
        "colab": {
          "base_uri": "https://localhost:8080/",
          "height": 143
        },
        "id": "B1zNMS9dK9tE",
        "outputId": "a65af11e-d184-457d-83f6-86f5a5eda3ee"
      },
      "execution_count": 13,
      "outputs": [
        {
          "output_type": "execute_result",
          "data": {
            "text/plain": [
              "                                                  Input Sentiment\n",
              "8006  im feeling im watching reading beware spoilers...      love\n",
              "7021                        hate feeling like im strong       joy\n",
              "9984                 feel blessed god chosen help guide      love"
            ],
            "text/html": [
              "\n",
              "  <div id=\"df-153413d1-5a33-4971-b7d1-e96cb8778217\" class=\"colab-df-container\">\n",
              "    <div>\n",
              "<style scoped>\n",
              "    .dataframe tbody tr th:only-of-type {\n",
              "        vertical-align: middle;\n",
              "    }\n",
              "\n",
              "    .dataframe tbody tr th {\n",
              "        vertical-align: top;\n",
              "    }\n",
              "\n",
              "    .dataframe thead th {\n",
              "        text-align: right;\n",
              "    }\n",
              "</style>\n",
              "<table border=\"1\" class=\"dataframe\">\n",
              "  <thead>\n",
              "    <tr style=\"text-align: right;\">\n",
              "      <th></th>\n",
              "      <th>Input</th>\n",
              "      <th>Sentiment</th>\n",
              "    </tr>\n",
              "  </thead>\n",
              "  <tbody>\n",
              "    <tr>\n",
              "      <th>8006</th>\n",
              "      <td>im feeling im watching reading beware spoilers...</td>\n",
              "      <td>love</td>\n",
              "    </tr>\n",
              "    <tr>\n",
              "      <th>7021</th>\n",
              "      <td>hate feeling like im strong</td>\n",
              "      <td>joy</td>\n",
              "    </tr>\n",
              "    <tr>\n",
              "      <th>9984</th>\n",
              "      <td>feel blessed god chosen help guide</td>\n",
              "      <td>love</td>\n",
              "    </tr>\n",
              "  </tbody>\n",
              "</table>\n",
              "</div>\n",
              "    <div class=\"colab-df-buttons\">\n",
              "\n",
              "  <div class=\"colab-df-container\">\n",
              "    <button class=\"colab-df-convert\" onclick=\"convertToInteractive('df-153413d1-5a33-4971-b7d1-e96cb8778217')\"\n",
              "            title=\"Convert this dataframe to an interactive table.\"\n",
              "            style=\"display:none;\">\n",
              "\n",
              "  <svg xmlns=\"http://www.w3.org/2000/svg\" height=\"24px\" viewBox=\"0 -960 960 960\">\n",
              "    <path d=\"M120-120v-720h720v720H120Zm60-500h600v-160H180v160Zm220 220h160v-160H400v160Zm0 220h160v-160H400v160ZM180-400h160v-160H180v160Zm440 0h160v-160H620v160ZM180-180h160v-160H180v160Zm440 0h160v-160H620v160Z\"/>\n",
              "  </svg>\n",
              "    </button>\n",
              "\n",
              "  <style>\n",
              "    .colab-df-container {\n",
              "      display:flex;\n",
              "      gap: 12px;\n",
              "    }\n",
              "\n",
              "    .colab-df-convert {\n",
              "      background-color: #E8F0FE;\n",
              "      border: none;\n",
              "      border-radius: 50%;\n",
              "      cursor: pointer;\n",
              "      display: none;\n",
              "      fill: #1967D2;\n",
              "      height: 32px;\n",
              "      padding: 0 0 0 0;\n",
              "      width: 32px;\n",
              "    }\n",
              "\n",
              "    .colab-df-convert:hover {\n",
              "      background-color: #E2EBFA;\n",
              "      box-shadow: 0px 1px 2px rgba(60, 64, 67, 0.3), 0px 1px 3px 1px rgba(60, 64, 67, 0.15);\n",
              "      fill: #174EA6;\n",
              "    }\n",
              "\n",
              "    .colab-df-buttons div {\n",
              "      margin-bottom: 4px;\n",
              "    }\n",
              "\n",
              "    [theme=dark] .colab-df-convert {\n",
              "      background-color: #3B4455;\n",
              "      fill: #D2E3FC;\n",
              "    }\n",
              "\n",
              "    [theme=dark] .colab-df-convert:hover {\n",
              "      background-color: #434B5C;\n",
              "      box-shadow: 0px 1px 3px 1px rgba(0, 0, 0, 0.15);\n",
              "      filter: drop-shadow(0px 1px 2px rgba(0, 0, 0, 0.3));\n",
              "      fill: #FFFFFF;\n",
              "    }\n",
              "  </style>\n",
              "\n",
              "    <script>\n",
              "      const buttonEl =\n",
              "        document.querySelector('#df-153413d1-5a33-4971-b7d1-e96cb8778217 button.colab-df-convert');\n",
              "      buttonEl.style.display =\n",
              "        google.colab.kernel.accessAllowed ? 'block' : 'none';\n",
              "\n",
              "      async function convertToInteractive(key) {\n",
              "        const element = document.querySelector('#df-153413d1-5a33-4971-b7d1-e96cb8778217');\n",
              "        const dataTable =\n",
              "          await google.colab.kernel.invokeFunction('convertToInteractive',\n",
              "                                                    [key], {});\n",
              "        if (!dataTable) return;\n",
              "\n",
              "        const docLinkHtml = 'Like what you see? Visit the ' +\n",
              "          '<a target=\"_blank\" href=https://colab.research.google.com/notebooks/data_table.ipynb>data table notebook</a>'\n",
              "          + ' to learn more about interactive tables.';\n",
              "        element.innerHTML = '';\n",
              "        dataTable['output_type'] = 'display_data';\n",
              "        await google.colab.output.renderOutput(dataTable, element);\n",
              "        const docLink = document.createElement('div');\n",
              "        docLink.innerHTML = docLinkHtml;\n",
              "        element.appendChild(docLink);\n",
              "      }\n",
              "    </script>\n",
              "  </div>\n",
              "\n",
              "\n",
              "<div id=\"df-703ccad1-c132-488c-9a92-5573a2745718\">\n",
              "  <button class=\"colab-df-quickchart\" onclick=\"quickchart('df-703ccad1-c132-488c-9a92-5573a2745718')\"\n",
              "            title=\"Suggest charts\"\n",
              "            style=\"display:none;\">\n",
              "\n",
              "<svg xmlns=\"http://www.w3.org/2000/svg\" height=\"24px\"viewBox=\"0 0 24 24\"\n",
              "     width=\"24px\">\n",
              "    <g>\n",
              "        <path d=\"M19 3H5c-1.1 0-2 .9-2 2v14c0 1.1.9 2 2 2h14c1.1 0 2-.9 2-2V5c0-1.1-.9-2-2-2zM9 17H7v-7h2v7zm4 0h-2V7h2v10zm4 0h-2v-4h2v4z\"/>\n",
              "    </g>\n",
              "</svg>\n",
              "  </button>\n",
              "\n",
              "<style>\n",
              "  .colab-df-quickchart {\n",
              "      --bg-color: #E8F0FE;\n",
              "      --fill-color: #1967D2;\n",
              "      --hover-bg-color: #E2EBFA;\n",
              "      --hover-fill-color: #174EA6;\n",
              "      --disabled-fill-color: #AAA;\n",
              "      --disabled-bg-color: #DDD;\n",
              "  }\n",
              "\n",
              "  [theme=dark] .colab-df-quickchart {\n",
              "      --bg-color: #3B4455;\n",
              "      --fill-color: #D2E3FC;\n",
              "      --hover-bg-color: #434B5C;\n",
              "      --hover-fill-color: #FFFFFF;\n",
              "      --disabled-bg-color: #3B4455;\n",
              "      --disabled-fill-color: #666;\n",
              "  }\n",
              "\n",
              "  .colab-df-quickchart {\n",
              "    background-color: var(--bg-color);\n",
              "    border: none;\n",
              "    border-radius: 50%;\n",
              "    cursor: pointer;\n",
              "    display: none;\n",
              "    fill: var(--fill-color);\n",
              "    height: 32px;\n",
              "    padding: 0;\n",
              "    width: 32px;\n",
              "  }\n",
              "\n",
              "  .colab-df-quickchart:hover {\n",
              "    background-color: var(--hover-bg-color);\n",
              "    box-shadow: 0 1px 2px rgba(60, 64, 67, 0.3), 0 1px 3px 1px rgba(60, 64, 67, 0.15);\n",
              "    fill: var(--button-hover-fill-color);\n",
              "  }\n",
              "\n",
              "  .colab-df-quickchart-complete:disabled,\n",
              "  .colab-df-quickchart-complete:disabled:hover {\n",
              "    background-color: var(--disabled-bg-color);\n",
              "    fill: var(--disabled-fill-color);\n",
              "    box-shadow: none;\n",
              "  }\n",
              "\n",
              "  .colab-df-spinner {\n",
              "    border: 2px solid var(--fill-color);\n",
              "    border-color: transparent;\n",
              "    border-bottom-color: var(--fill-color);\n",
              "    animation:\n",
              "      spin 1s steps(1) infinite;\n",
              "  }\n",
              "\n",
              "  @keyframes spin {\n",
              "    0% {\n",
              "      border-color: transparent;\n",
              "      border-bottom-color: var(--fill-color);\n",
              "      border-left-color: var(--fill-color);\n",
              "    }\n",
              "    20% {\n",
              "      border-color: transparent;\n",
              "      border-left-color: var(--fill-color);\n",
              "      border-top-color: var(--fill-color);\n",
              "    }\n",
              "    30% {\n",
              "      border-color: transparent;\n",
              "      border-left-color: var(--fill-color);\n",
              "      border-top-color: var(--fill-color);\n",
              "      border-right-color: var(--fill-color);\n",
              "    }\n",
              "    40% {\n",
              "      border-color: transparent;\n",
              "      border-right-color: var(--fill-color);\n",
              "      border-top-color: var(--fill-color);\n",
              "    }\n",
              "    60% {\n",
              "      border-color: transparent;\n",
              "      border-right-color: var(--fill-color);\n",
              "    }\n",
              "    80% {\n",
              "      border-color: transparent;\n",
              "      border-right-color: var(--fill-color);\n",
              "      border-bottom-color: var(--fill-color);\n",
              "    }\n",
              "    90% {\n",
              "      border-color: transparent;\n",
              "      border-bottom-color: var(--fill-color);\n",
              "    }\n",
              "  }\n",
              "</style>\n",
              "\n",
              "  <script>\n",
              "    async function quickchart(key) {\n",
              "      const quickchartButtonEl =\n",
              "        document.querySelector('#' + key + ' button');\n",
              "      quickchartButtonEl.disabled = true;  // To prevent multiple clicks.\n",
              "      quickchartButtonEl.classList.add('colab-df-spinner');\n",
              "      try {\n",
              "        const charts = await google.colab.kernel.invokeFunction(\n",
              "            'suggestCharts', [key], {});\n",
              "      } catch (error) {\n",
              "        console.error('Error during call to suggestCharts:', error);\n",
              "      }\n",
              "      quickchartButtonEl.classList.remove('colab-df-spinner');\n",
              "      quickchartButtonEl.classList.add('colab-df-quickchart-complete');\n",
              "    }\n",
              "    (() => {\n",
              "      let quickchartButtonEl =\n",
              "        document.querySelector('#df-703ccad1-c132-488c-9a92-5573a2745718 button');\n",
              "      quickchartButtonEl.style.display =\n",
              "        google.colab.kernel.accessAllowed ? 'block' : 'none';\n",
              "    })();\n",
              "  </script>\n",
              "</div>\n",
              "    </div>\n",
              "  </div>\n"
            ]
          },
          "metadata": {},
          "execution_count": 13
        }
      ]
    },
    {
      "cell_type": "code",
      "source": [
        "# converting to categorical labels\n",
        "le = LabelEncoder()\n",
        "cleaned_train_data['Sentiment'] = le.fit_transform(cleaned_train_data['Sentiment'])\n",
        "cleaned_train_data['Sentiment'].unique()\n",
        "\n",
        "# test data\n",
        "test_data['Sentiment'] = le.fit_transform(test_data['Sentiment'])\n",
        "test_data['Sentiment'].unique()\n",
        "\n",
        "#validation data\n",
        "validation_data['Sentiment'] = le.fit_transform(validation_data['Sentiment'])\n",
        "validation_data['Sentiment'].unique()"
      ],
      "metadata": {
        "colab": {
          "base_uri": "https://localhost:8080/"
        },
        "id": "mtg3Q4YnLqpz",
        "outputId": "31c9eb4f-dac3-4fb2-82d0-78d3e3ce0e03"
      },
      "execution_count": 14,
      "outputs": [
        {
          "output_type": "execute_result",
          "data": {
            "text/plain": [
              "array([4, 3, 0, 2, 1, 5])"
            ]
          },
          "metadata": {},
          "execution_count": 14
        }
      ]
    },
    {
      "cell_type": "code",
      "source": [
        "train_test_Input_data = pd.concat([cleaned_train_data['Input'], test_data['Input']], axis=0)\n",
        "train_test_Input_data[0:51]"
      ],
      "metadata": {
        "colab": {
          "base_uri": "https://localhost:8080/"
        },
        "id": "t_-iNQvxUSXI",
        "outputId": "853f5fbe-1e2a-4508-f1b4-174dc97f4c1c"
      },
      "execution_count": 15,
      "outputs": [
        {
          "output_type": "execute_result",
          "data": {
            "text/plain": [
              "0                                 didnt feel humiliated\n",
              "1           feeling hopeless damned hopeful cares awake\n",
              "2             im grabbing minute post feel greedy wrong\n",
              "3             feeling nostalgic fireplace know property\n",
              "4                                       feeling grouchy\n",
              "5         ive feeling little burdened lately wasnt sure\n",
              "6     ive taking milligrams times recommended ive fa...\n",
              "7        feel confused life teenager jaded year old man\n",
              "8     petronas years feel petronas performed huge pr...\n",
              "9                                         feel romantic\n",
              "10                      feel like suffering seeing mean\n",
              "11    feel running divine experience expect type spi...\n",
              "12            think easiest time year feel dissatisfied\n",
              "13                              feel low energy thirsty\n",
              "14    immense sympathy general point possible proto ...\n",
              "15                               feel reassured anxiety\n",
              "16                               didnt feel embarrassed\n",
              "17                            feel pretty pathetic time\n",
              "18    started feeling sentimental dolls child began ...\n",
              "19           feel compromised skeptical value unit work\n",
              "20                       feel irritated rejected saying\n",
              "21    feeling completely overwhelmed strategies help...\n",
              "22                             feeling amused delighted\n",
              "23    able help chai lifeline support encouragement ...\n",
              "24            feel like fucked dont usually eat morning\n",
              "25    love wish best longer tolerate effect bm lives...\n",
              "26    feel inhibited elses kitchen like im painting ...\n",
              "27                            overwhelmed feel defeated\n",
              "28    feel kinda appalled feels like needs explain w...\n",
              "29            feel superior dead chicken grieving child\n",
              "30    giddy feeling elegant perfectly fitted pencil ...\n",
              "31             remember feeling acutely distressed days\n",
              "32    seen heard read past couple days left feeling ...\n",
              "33    climbed hill feeling frustrated id pretty pace...\n",
              "34    imagine real life scenario emotionally connect...\n",
              "35                                    sure feel content\n",
              "36                                feeling need creative\n",
              "37       want know causing feel splendid self step away\n",
              "38    feel bit rude writing elderly gentleman ask gi...\n",
              "39    need need need protected feel safe small find ...\n",
              "40    plan share everyday life stories traveling adv...\n",
              "41    christmas trees got feeling festive sure spurr...\n",
              "42    ive worn little concealer days im feeling brav...\n",
              "43       feel strongly passionate jerk decides poke fun\n",
              "44    feeling discouraged robbing peter pay paul cow...\n",
              "45           feeling listless need new things different\n",
              "46    lost special mind worry sane wanted feel felt ...\n",
              "47                   let sad feeling want accepted home\n",
              "48                                    boat trip denmark\n",
              "49               stopped feeling cold began feeling hot\n",
              "50                         need feel dough sure perfect\n",
              "Name: Input, dtype: object"
            ]
          },
          "metadata": {},
          "execution_count": 15
        }
      ]
    },
    {
      "cell_type": "code",
      "source": [
        "#Instatiating the tokenizer class to vectorize the sentences\n",
        "tokenizer = Tokenizer(num_words=10000)\n",
        "tokenizer.fit_on_texts(train_test_Input_data)\n",
        "#getting the word embeddings of the train and test input data\n",
        "word_index = dict(itertools.islice(tokenizer.word_index.items(), 10))\n",
        "word_index"
      ],
      "metadata": {
        "id": "YQPovObILbjj",
        "colab": {
          "base_uri": "https://localhost:8080/"
        },
        "outputId": "57373761-59e2-4df4-c333-e128c51ce07c"
      },
      "execution_count": 16,
      "outputs": [
        {
          "output_type": "execute_result",
          "data": {
            "text/plain": [
              "{'feel': 1,\n",
              " 'feeling': 2,\n",
              " 'like': 3,\n",
              " 'i': 4,\n",
              " 'im': 5,\n",
              " 'and': 6,\n",
              " 'to': 7,\n",
              " 'the': 8,\n",
              " 'know': 9,\n",
              " 'time': 10}"
            ]
          },
          "metadata": {},
          "execution_count": 16
        }
      ]
    },
    {
      "cell_type": "code",
      "source": [
        "total_num_words = len(tokenizer.word_index)\n",
        "total_num_words"
      ],
      "metadata": {
        "colab": {
          "base_uri": "https://localhost:8080/"
        },
        "id": "7K9pXUa3AEvg",
        "outputId": "c7c0b1f7-e404-4b0f-9ebe-b3cc0a1c7d82"
      },
      "execution_count": 17,
      "outputs": [
        {
          "output_type": "execute_result",
          "data": {
            "text/plain": [
              "16151"
            ]
          },
          "metadata": {},
          "execution_count": 17
        }
      ]
    },
    {
      "cell_type": "code",
      "source": [
        "#creating the x_train, x_test, and x_validation variables\n",
        "\n",
        "#x_train\n",
        "X_train = tokenizer.texts_to_sequences(cleaned_train_data['Input'])\n",
        "X_train_padded = pad_sequences(X_train, maxlen=300, padding='post')\n",
        "\n",
        "#x_test\n",
        "X_test = tokenizer.texts_to_sequences(test_data['Input'])\n",
        "X_test_padded = pad_sequences(X_test, maxlen=300, padding='post')\n",
        "\n",
        "#x_validation\n",
        "X_validation = tokenizer.texts_to_sequences(validation_data['Input'])\n",
        "X_validation_padded = pad_sequences(X_validation, maxlen=300, padding='post')\n"
      ],
      "metadata": {
        "id": "2sbyCgaYB2nL"
      },
      "execution_count": 18,
      "outputs": []
    },
    {
      "cell_type": "code",
      "source": [
        "X_train_padded.shape[1]"
      ],
      "metadata": {
        "colab": {
          "base_uri": "https://localhost:8080/"
        },
        "id": "dszkBtwKkKFW",
        "outputId": "d7caa209-34dd-42df-ef25-a174ae9ab69c"
      },
      "execution_count": 19,
      "outputs": [
        {
          "output_type": "execute_result",
          "data": {
            "text/plain": [
              "300"
            ]
          },
          "metadata": {},
          "execution_count": 19
        }
      ]
    },
    {
      "cell_type": "code",
      "source": [
        "''' creating the y_train, y_test and y_validation\n",
        " variables using the to_categorical function in tensorflow '''\n",
        "y_train = to_categorical(y=cleaned_train_data['Sentiment'].values)\n",
        "y_test = to_categorical(y=test_data['Sentiment'].values)\n",
        "y_validation = to_categorical(y=validation_data['Sentiment'].values)"
      ],
      "metadata": {
        "id": "ZhIAf8RpEHRX"
      },
      "execution_count": 20,
      "outputs": []
    },
    {
      "cell_type": "code",
      "source": [
        "#creating weighted matrix using gensim-word2vec\n",
        "#downloading gigawords of 100dimensions\n",
        "wv = gendownload.load('glove-wiki-gigaword-100')\n"
      ],
      "metadata": {
        "id": "j5YGVQXCG4V9",
        "colab": {
          "base_uri": "https://localhost:8080/"
        },
        "outputId": "985124c9-97ce-4780-ecdf-befa471e11c9"
      },
      "execution_count": 21,
      "outputs": [
        {
          "output_type": "stream",
          "name": "stdout",
          "text": [
            "[==================================================] 100.0% 128.1/128.1MB downloaded\n"
          ]
        }
      ]
    },
    {
      "cell_type": "code",
      "source": [
        "type(wv)"
      ],
      "metadata": {
        "colab": {
          "base_uri": "https://localhost:8080/"
        },
        "id": "0VF-Peo7gXrX",
        "outputId": "e30038d3-0af0-4411-c3a2-c7534c57b373"
      },
      "execution_count": 22,
      "outputs": [
        {
          "output_type": "execute_result",
          "data": {
            "text/plain": [
              "gensim.models.keyedvectors.KeyedVectors"
            ]
          },
          "metadata": {},
          "execution_count": 22
        }
      ]
    },
    {
      "cell_type": "code",
      "source": [
        "wv['cat'].shape[0]"
      ],
      "metadata": {
        "colab": {
          "base_uri": "https://localhost:8080/"
        },
        "id": "Fq70ybP1gbF8",
        "outputId": "8da2fcec-e125-4020-b87d-3eabe02f352a"
      },
      "execution_count": 23,
      "outputs": [
        {
          "output_type": "execute_result",
          "data": {
            "text/plain": [
              "100"
            ]
          },
          "metadata": {},
          "execution_count": 23
        }
      ]
    },
    {
      "cell_type": "code",
      "source": [
        "#creating a word2vec shape matrix\n",
        "vector_size = 100\n",
        "gensim_weight_matrix = np.zeros((total_num_words, vector_size))\n",
        "gensim_weight_matrix.shape\n"
      ],
      "metadata": {
        "colab": {
          "base_uri": "https://localhost:8080/"
        },
        "id": "R9xAhMQVg9ee",
        "outputId": "7e6541ad-09c6-4b13-f38e-13ac42ef069e"
      },
      "execution_count": 24,
      "outputs": [
        {
          "output_type": "execute_result",
          "data": {
            "text/plain": [
              "(16151, 100)"
            ]
          },
          "metadata": {},
          "execution_count": 24
        }
      ]
    },
    {
      "cell_type": "code",
      "source": [
        "for word, index in tokenizer.word_index.items():\n",
        "    if index < total_num_words: # since index starts with zero\n",
        "        if word in wv.index_to_key:\n",
        "            gensim_weight_matrix[index] = wv[word]\n",
        "        else:\n",
        "            gensim_weight_matrix[index] = np.zeros(100)"
      ],
      "metadata": {
        "id": "KEKLNZM3hYYT"
      },
      "execution_count": 25,
      "outputs": []
    },
    {
      "cell_type": "code",
      "source": [
        "gensim_weight_matrix.shape"
      ],
      "metadata": {
        "colab": {
          "base_uri": "https://localhost:8080/"
        },
        "id": "miUSfJXbFz98",
        "outputId": "eb8e14b8-2b86-4c7c-86cc-9fc5ca4f024f"
      },
      "execution_count": 26,
      "outputs": [
        {
          "output_type": "execute_result",
          "data": {
            "text/plain": [
              "(16151, 100)"
            ]
          },
          "metadata": {},
          "execution_count": 26
        }
      ]
    },
    {
      "cell_type": "code",
      "source": [
        "#building the model\n",
        "embedding_dim = 100\n",
        "model = tf.keras.models.Sequential([\n",
        "    tf.keras.layers.Embedding(input_dim=total_num_words,\n",
        "                              output_dim=embedding_dim, input_length=X_train_padded.shape[1],\n",
        "                              weights=[gensim_weight_matrix]),\n",
        "    tf.keras.layers.Bidirectional(tf.keras.layers.LSTM(128, return_sequences=True)),\n",
        "    #adding the dropout feature to prevent overfitting in the model\n",
        "    tf.keras.layers.Dropout(0.2),\n",
        "    #adding another Bidirectional lstm layer to the model\n",
        "    tf.keras.layers.Bidirectional(tf.keras.layers.LSTM(64)),\n",
        "    tf.keras.layers.Dense(64, activation='relu'),\n",
        "    tf.keras.layers.Dense(6, activation='softmax')\n",
        "\n",
        "])"
      ],
      "metadata": {
        "id": "6_PycwSaF88a"
      },
      "execution_count": 27,
      "outputs": []
    },
    {
      "cell_type": "code",
      "source": [
        "model.compile(loss='categorical_crossentropy',\n",
        "              optimizer = 'adam',\n",
        "              metrics=['accuracy'])"
      ],
      "metadata": {
        "id": "kyNp1iInR82e"
      },
      "execution_count": 28,
      "outputs": []
    },
    {
      "cell_type": "code",
      "source": [
        "#early stopping\n",
        "class Early_stopping(tf.keras.callbacks.Callback):\n",
        "  def on_epochs_end(self, epochs, logs={}):\n",
        "    if logs.get('accuracy') is not None and logs.get('accuracy') <= 0.98:\n",
        "      print('Model has an accuracy score of {}, terminating!!!!'.format(logs.get('accuracy')))\n",
        "      self.model.stop_training = True\n",
        "\n",
        "callback = Early_stopping()"
      ],
      "metadata": {
        "id": "Y-CjpFyjSfvL"
      },
      "execution_count": 29,
      "outputs": []
    },
    {
      "cell_type": "code",
      "source": [
        "model.summary()"
      ],
      "metadata": {
        "colab": {
          "base_uri": "https://localhost:8080/"
        },
        "id": "L5h8RntPjmot",
        "outputId": "8342b86f-4bc8-46cb-8879-4b506c47c7f2"
      },
      "execution_count": 30,
      "outputs": [
        {
          "output_type": "stream",
          "name": "stdout",
          "text": [
            "Model: \"sequential\"\n",
            "_________________________________________________________________\n",
            " Layer (type)                Output Shape              Param #   \n",
            "=================================================================\n",
            " embedding (Embedding)       (None, 300, 100)          1615100   \n",
            "                                                                 \n",
            " bidirectional (Bidirection  (None, 300, 256)          234496    \n",
            " al)                                                             \n",
            "                                                                 \n",
            " dropout (Dropout)           (None, 300, 256)          0         \n",
            "                                                                 \n",
            " bidirectional_1 (Bidirecti  (None, 128)               164352    \n",
            " onal)                                                           \n",
            "                                                                 \n",
            " dense (Dense)               (None, 64)                8256      \n",
            "                                                                 \n",
            " dense_1 (Dense)             (None, 6)                 390       \n",
            "                                                                 \n",
            "=================================================================\n",
            "Total params: 2022594 (7.72 MB)\n",
            "Trainable params: 2022594 (7.72 MB)\n",
            "Non-trainable params: 0 (0.00 Byte)\n",
            "_________________________________________________________________\n"
          ]
        }
      ]
    },
    {
      "cell_type": "code",
      "source": [
        "history = model.fit(x=X_train_padded, y= y_train,\n",
        "                    epochs=25,\n",
        "                    steps_per_epoch=50, batch_size=120,\n",
        "                    validation_data=(X_validation_padded, y_validation),\n",
        "                    callbacks=callback)\n"
      ],
      "metadata": {
        "colab": {
          "base_uri": "https://localhost:8080/"
        },
        "id": "QTlYueyid7hg",
        "outputId": "4fa0489c-59e7-4620-ab3c-ba203cc4ee0a"
      },
      "execution_count": 31,
      "outputs": [
        {
          "output_type": "stream",
          "name": "stdout",
          "text": [
            "Epoch 1/25\n",
            "50/50 [==============================] - 26s 253ms/step - loss: 1.4673 - accuracy: 0.4312 - val_loss: 1.3481 - val_accuracy: 0.4915\n",
            "Epoch 2/25\n",
            "50/50 [==============================] - 7s 146ms/step - loss: 1.0347 - accuracy: 0.6170 - val_loss: 1.1432 - val_accuracy: 0.5825\n",
            "Epoch 3/25\n",
            "50/50 [==============================] - 8s 159ms/step - loss: 0.7214 - accuracy: 0.7446 - val_loss: 0.9518 - val_accuracy: 0.6810\n",
            "Epoch 4/25\n",
            "50/50 [==============================] - 6s 113ms/step - loss: 0.4519 - accuracy: 0.8325 - val_loss: 0.7125 - val_accuracy: 0.7375\n",
            "Epoch 5/25\n",
            "50/50 [==============================] - 5s 106ms/step - loss: 0.3438 - accuracy: 0.8720 - val_loss: 0.4779 - val_accuracy: 0.8320\n",
            "Epoch 6/25\n",
            "50/50 [==============================] - 5s 101ms/step - loss: 0.2524 - accuracy: 0.9049 - val_loss: 0.4007 - val_accuracy: 0.8485\n",
            "Epoch 7/25\n",
            "50/50 [==============================] - 5s 110ms/step - loss: 0.1987 - accuracy: 0.9227 - val_loss: 0.4852 - val_accuracy: 0.8340\n",
            "Epoch 8/25\n",
            "50/50 [==============================] - 5s 102ms/step - loss: 0.1958 - accuracy: 0.9227 - val_loss: 0.4508 - val_accuracy: 0.8480\n",
            "Epoch 9/25\n",
            "50/50 [==============================] - 4s 86ms/step - loss: 0.1529 - accuracy: 0.9382 - val_loss: 0.3974 - val_accuracy: 0.8505\n",
            "Epoch 10/25\n",
            "50/50 [==============================] - 5s 101ms/step - loss: 0.1381 - accuracy: 0.9435 - val_loss: 0.3325 - val_accuracy: 0.8870\n",
            "Epoch 11/25\n",
            "50/50 [==============================] - 5s 96ms/step - loss: 0.1295 - accuracy: 0.9473 - val_loss: 0.2552 - val_accuracy: 0.9020\n",
            "Epoch 12/25\n",
            "50/50 [==============================] - 4s 88ms/step - loss: 0.0898 - accuracy: 0.9642 - val_loss: 0.3252 - val_accuracy: 0.8855\n",
            "Epoch 13/25\n",
            "50/50 [==============================] - 5s 98ms/step - loss: 0.1030 - accuracy: 0.9568 - val_loss: 0.4890 - val_accuracy: 0.8525\n",
            "Epoch 14/25\n",
            "50/50 [==============================] - 5s 96ms/step - loss: 0.0858 - accuracy: 0.9630 - val_loss: 0.3176 - val_accuracy: 0.8985\n",
            "Epoch 15/25\n",
            "50/50 [==============================] - 5s 91ms/step - loss: 0.0823 - accuracy: 0.9647 - val_loss: 0.3033 - val_accuracy: 0.8980\n",
            "Epoch 16/25\n",
            "50/50 [==============================] - 4s 90ms/step - loss: 0.0723 - accuracy: 0.9710 - val_loss: 0.3913 - val_accuracy: 0.8720\n",
            "Epoch 17/25\n",
            "50/50 [==============================] - 4s 86ms/step - loss: 0.0666 - accuracy: 0.9713 - val_loss: 0.7704 - val_accuracy: 0.7920\n",
            "Epoch 18/25\n",
            "50/50 [==============================] - 5s 91ms/step - loss: 0.0737 - accuracy: 0.9695 - val_loss: 0.4842 - val_accuracy: 0.8540\n",
            "Epoch 19/25\n",
            "50/50 [==============================] - 4s 90ms/step - loss: 0.0682 - accuracy: 0.9704 - val_loss: 0.4686 - val_accuracy: 0.8685\n",
            "Epoch 20/25\n",
            "50/50 [==============================] - 4s 85ms/step - loss: 0.0484 - accuracy: 0.9805 - val_loss: 0.4255 - val_accuracy: 0.8850\n",
            "Epoch 21/25\n",
            "50/50 [==============================] - 4s 84ms/step - loss: 0.0614 - accuracy: 0.9730 - val_loss: 0.4363 - val_accuracy: 0.8795\n",
            "Epoch 22/25\n",
            "50/50 [==============================] - 4s 86ms/step - loss: 0.0423 - accuracy: 0.9821 - val_loss: 0.4374 - val_accuracy: 0.8880\n",
            "Epoch 23/25\n",
            "50/50 [==============================] - 5s 93ms/step - loss: 0.0486 - accuracy: 0.9800 - val_loss: 0.5584 - val_accuracy: 0.8520\n",
            "Epoch 24/25\n",
            "50/50 [==============================] - 5s 91ms/step - loss: 0.0525 - accuracy: 0.9788 - val_loss: 0.4694 - val_accuracy: 0.8585\n",
            "Epoch 25/25\n",
            "50/50 [==============================] - 4s 87ms/step - loss: 0.0459 - accuracy: 0.9799 - val_loss: 0.4296 - val_accuracy: 0.8915\n"
          ]
        }
      ]
    },
    {
      "cell_type": "code",
      "source": [
        "history.history.keys()"
      ],
      "metadata": {
        "colab": {
          "base_uri": "https://localhost:8080/"
        },
        "id": "vYq-7kZguzgc",
        "outputId": "b483851d-f899-4d96-845f-c3499c0cbbab"
      },
      "execution_count": 32,
      "outputs": [
        {
          "output_type": "execute_result",
          "data": {
            "text/plain": [
              "dict_keys(['loss', 'accuracy', 'val_loss', 'val_accuracy'])"
            ]
          },
          "metadata": {},
          "execution_count": 32
        }
      ]
    },
    {
      "cell_type": "code",
      "source": [
        "def model_performance(history, train_accuracy, val_accuracy):\n",
        "  train_score = history.history[train_accuracy]\n",
        "  validation_score = history.history[val_accuracy]\n",
        "\n",
        "  print(\"The model's accuracy score on the training data is {}\".format(round(train_score[-1], 2)))\n",
        "  print(\"The model's accuracy score on the validation data is {}\".format(round(validation_score[-1], 2)))\n"
      ],
      "metadata": {
        "id": "YI7Qbq--djuo"
      },
      "execution_count": 33,
      "outputs": []
    },
    {
      "cell_type": "code",
      "source": [
        "model_performance(history, 'accuracy', 'val_accuracy')"
      ],
      "metadata": {
        "colab": {
          "base_uri": "https://localhost:8080/"
        },
        "id": "nKl_NSn0wbyv",
        "outputId": "b54afe5e-9ccf-4dcc-f64d-f22e6728ba17"
      },
      "execution_count": 34,
      "outputs": [
        {
          "output_type": "stream",
          "name": "stdout",
          "text": [
            "The model's accuracy score on the training data is 0.98\n",
            "The model's accuracy score on the validation data is 0.89\n"
          ]
        }
      ]
    },
    {
      "cell_type": "code",
      "source": [
        "train_accuracy = history.history['accuracy']\n",
        "validation_accuracy = history.history['val_accuracy']\n",
        "epochs = range(len(train_accuracy))\n",
        "# print(epochs)\n",
        "\n",
        "plt.title(\"Training and validation accuracy\")\n",
        "plt.plot(epochs, train_accuracy, 'b', label='training_accuracy')\n",
        "plt.plot(epochs, validation_accuracy, \"r\", label=\"validation_accuracy\")\n",
        "plt.xlabel('epochs')\n",
        "plt.legend(loc=0)\n",
        "plt.figure()\n"
      ],
      "metadata": {
        "colab": {
          "base_uri": "https://localhost:8080/",
          "height": 507
        },
        "id": "SYgestpUScRt",
        "outputId": "0c3669d7-4a89-4ea2-ba44-203e48a2750d"
      },
      "execution_count": 35,
      "outputs": [
        {
          "output_type": "execute_result",
          "data": {
            "text/plain": [
              "<Figure size 640x480 with 0 Axes>"
            ]
          },
          "metadata": {},
          "execution_count": 35
        },
        {
          "output_type": "display_data",
          "data": {
            "text/plain": [
              "<Figure size 640x480 with 1 Axes>"
            ],
            "image/png": "[encoded data removed]"
          },
          "metadata": {}
        },
        {
          "output_type": "display_data",
          "data": {
            "text/plain": [
              "<Figure size 640x480 with 0 Axes>"
            ]
          },
          "metadata": {}
        }
      ]
    },
    {
      "cell_type": "code",
      "source": [
        "#Building the model using Gated Recurrent units(GRU)\n",
        "model2 = tf.keras.models.Sequential([\n",
        "    tf.keras.layers.Embedding(input_dim=total_num_words,\n",
        "                              output_dim=embedding_dim, input_length=X_train_padded.shape[1],\n",
        "                              weights=[gensim_weight_matrix]),\n",
        "    tf.keras.layers.Bidirectional(tf.keras.layers.GRU(128, return_sequences=True)),\n",
        "    tf.keras.layers.Dropout(0.2),\n",
        "    tf.keras.layers.Bidirectional(tf.keras.layers.GRU(64)),\n",
        "    tf.keras.layers.Dense(64, activation='relu'),\n",
        "    tf.keras.layers.Dense(6, activation='softmax')\n",
        "\n",
        "])"
      ],
      "metadata": {
        "id": "nCRmYj5C5Yqa"
      },
      "execution_count": 36,
      "outputs": []
    },
    {
      "cell_type": "code",
      "source": [
        "model2.compile(loss='categorical_crossentropy',\n",
        "              optimizer = 'adam',\n",
        "              metrics=['accuracy'])"
      ],
      "metadata": {
        "id": "8rhu0JX6-opa"
      },
      "execution_count": 37,
      "outputs": []
    },
    {
      "cell_type": "code",
      "source": [
        "history_model2 = model2.fit(x=X_train_padded, y= y_train,\n",
        "                    epochs=25,\n",
        "                    steps_per_epoch=50, batch_size=120,\n",
        "                    validation_data=(X_validation_padded, y_validation),\n",
        "                    callbacks=callback)"
      ],
      "metadata": {
        "colab": {
          "base_uri": "https://localhost:8080/"
        },
        "id": "JZkib9zB-0GK",
        "outputId": "6954485a-1f53-4890-e9cf-3153d5c1d510"
      },
      "execution_count": 38,
      "outputs": [
        {
          "output_type": "stream",
          "name": "stdout",
          "text": [
            "Epoch 1/25\n",
            "50/50 [==============================] - 17s 187ms/step - loss: 1.4426 - accuracy: 0.4583 - val_loss: 1.4635 - val_accuracy: 0.4585\n",
            "Epoch 2/25\n",
            "50/50 [==============================] - 6s 124ms/step - loss: 0.9942 - accuracy: 0.6418 - val_loss: 0.8443 - val_accuracy: 0.7175\n",
            "Epoch 3/25\n",
            "50/50 [==============================] - 6s 113ms/step - loss: 0.5308 - accuracy: 0.8150 - val_loss: 0.4831 - val_accuracy: 0.8240\n",
            "Epoch 4/25\n",
            "50/50 [==============================] - 5s 105ms/step - loss: 0.2954 - accuracy: 0.8917 - val_loss: 0.3800 - val_accuracy: 0.8595\n",
            "Epoch 5/25\n",
            "50/50 [==============================] - 4s 86ms/step - loss: 0.2339 - accuracy: 0.9108 - val_loss: 0.2877 - val_accuracy: 0.9030\n",
            "Epoch 6/25\n",
            "50/50 [==============================] - 5s 103ms/step - loss: 0.1736 - accuracy: 0.9296 - val_loss: 0.2252 - val_accuracy: 0.9195\n",
            "Epoch 7/25\n",
            "50/50 [==============================] - 4s 84ms/step - loss: 0.1367 - accuracy: 0.9410 - val_loss: 0.2431 - val_accuracy: 0.9075\n",
            "Epoch 8/25\n",
            "50/50 [==============================] - 4s 90ms/step - loss: 0.1341 - accuracy: 0.9408 - val_loss: 0.2002 - val_accuracy: 0.9200\n",
            "Epoch 9/25\n",
            "50/50 [==============================] - 4s 87ms/step - loss: 0.1032 - accuracy: 0.9542 - val_loss: 0.1641 - val_accuracy: 0.9290\n",
            "Epoch 10/25\n",
            "50/50 [==============================] - 4s 89ms/step - loss: 0.1087 - accuracy: 0.9512 - val_loss: 0.1687 - val_accuracy: 0.9275\n",
            "Epoch 11/25\n",
            "50/50 [==============================] - 4s 81ms/step - loss: 0.0999 - accuracy: 0.9537 - val_loss: 0.1784 - val_accuracy: 0.9245\n",
            "Epoch 12/25\n",
            "50/50 [==============================] - 4s 89ms/step - loss: 0.0785 - accuracy: 0.9657 - val_loss: 0.1868 - val_accuracy: 0.9240\n",
            "Epoch 13/25\n",
            "50/50 [==============================] - 4s 79ms/step - loss: 0.0886 - accuracy: 0.9582 - val_loss: 0.1683 - val_accuracy: 0.9285\n",
            "Epoch 14/25\n",
            "50/50 [==============================] - 4s 81ms/step - loss: 0.0699 - accuracy: 0.9654 - val_loss: 0.1722 - val_accuracy: 0.9290\n",
            "Epoch 15/25\n",
            "50/50 [==============================] - 4s 78ms/step - loss: 0.0728 - accuracy: 0.9698 - val_loss: 0.2051 - val_accuracy: 0.9235\n",
            "Epoch 16/25\n",
            "50/50 [==============================] - 4s 87ms/step - loss: 0.0692 - accuracy: 0.9705 - val_loss: 0.2389 - val_accuracy: 0.9125\n",
            "Epoch 17/25\n",
            "50/50 [==============================] - 4s 73ms/step - loss: 0.0498 - accuracy: 0.9780 - val_loss: 0.2114 - val_accuracy: 0.9260\n",
            "Epoch 18/25\n",
            "50/50 [==============================] - 4s 80ms/step - loss: 0.0598 - accuracy: 0.9728 - val_loss: 0.1935 - val_accuracy: 0.9320\n",
            "Epoch 19/25\n",
            "50/50 [==============================] - 7s 134ms/step - loss: 0.0533 - accuracy: 0.9772 - val_loss: 0.2087 - val_accuracy: 0.9255\n",
            "Epoch 20/25\n",
            "50/50 [==============================] - 5s 100ms/step - loss: 0.0372 - accuracy: 0.9833 - val_loss: 0.2335 - val_accuracy: 0.9230\n",
            "Epoch 21/25\n",
            "50/50 [==============================] - 5s 104ms/step - loss: 0.0455 - accuracy: 0.9803 - val_loss: 0.2215 - val_accuracy: 0.9200\n",
            "Epoch 22/25\n",
            "50/50 [==============================] - 6s 113ms/step - loss: 0.0570 - accuracy: 0.9767 - val_loss: 0.2278 - val_accuracy: 0.9165\n",
            "Epoch 23/25\n",
            "50/50 [==============================] - 5s 95ms/step - loss: 0.0346 - accuracy: 0.9858 - val_loss: 0.2427 - val_accuracy: 0.9170\n",
            "Epoch 24/25\n",
            "50/50 [==============================] - 5s 92ms/step - loss: 0.0360 - accuracy: 0.9847 - val_loss: 0.2803 - val_accuracy: 0.9105\n",
            "Epoch 25/25\n",
            "50/50 [==============================] - 4s 79ms/step - loss: 0.0373 - accuracy: 0.9836 - val_loss: 0.2609 - val_accuracy: 0.9190\n"
          ]
        }
      ]
    },
    {
      "cell_type": "code",
      "source": [
        "model_performance(history_model2, 'accuracy', 'val_accuracy')"
      ],
      "metadata": {
        "colab": {
          "base_uri": "https://localhost:8080/"
        },
        "id": "VA1v66UsEaCS",
        "outputId": "66b98fb2-b60b-41ef-e3bb-238f08f3c6c7"
      },
      "execution_count": 39,
      "outputs": [
        {
          "output_type": "stream",
          "name": "stdout",
          "text": [
            "The model's accuracy score on the training data is 0.98\n",
            "The model's accuracy score on the validation data is 0.92\n"
          ]
        }
      ]
    },
    {
      "cell_type": "code",
      "source": [
        "train_accuracy = history_model2.history['accuracy']\n",
        "validation_accuracy = history_model2.history['val_accuracy']\n",
        "epochs = range(len(train_accuracy))\n",
        "# print(epochs)\n",
        "\n",
        "plt.title(\"Training and validation accuracy\")\n",
        "plt.plot(epochs, train_accuracy, 'b', label='training_accuracy')\n",
        "plt.plot(epochs, validation_accuracy, \"r\", label=\"validation_accuracy\")\n",
        "plt.xlabel('epochs')\n",
        "plt.legend(loc=0)\n",
        "plt.figure()\n"
      ],
      "metadata": {
        "colab": {
          "base_uri": "https://localhost:8080/",
          "height": 507
        },
        "id": "fzc8-cs3FRa1",
        "outputId": "03999ddf-90fc-41d3-837f-4a2618ef912d"
      },
      "execution_count": 40,
      "outputs": [
        {
          "output_type": "execute_result",
          "data": {
            "text/plain": [
              "<Figure size 640x480 with 0 Axes>"
            ]
          },
          "metadata": {},
          "execution_count": 40
        },
        {
          "output_type": "display_data",
          "data": {
            "text/plain": [
              "<Figure size 640x480 with 1 Axes>"
            ],
            "image/png": "[encoded data removed]"
          },
          "metadata": {}
        },
        {
          "output_type": "display_data",
          "data": {
            "text/plain": [
              "<Figure size 640x480 with 0 Axes>"
            ]
          },
          "metadata": {}
        }
      ]
    },
    {
      "cell_type": "code",
      "source": [
        "#Training the model using cuDNN (Nvidia CUDA Deep Neural networks)\n",
        "model3 = tf.keras.models.Sequential([\n",
        "    tf.keras.layers.Embedding(input_dim = total_num_words,# the whole vocabulary size\n",
        "                          output_dim = embedding_dim, # vector space dimension\n",
        "                          input_length= X_train_padded.shape[1], # max_len of text sequence\n",
        "                          weights = [gensim_weight_matrix],trainable = False),\n",
        "    tf.keras.layers.Dropout(0.2),\n",
        "    tf.keras.layers.Bidirectional(CuDNNLSTM(100,return_sequences=True)),\n",
        "    tf.keras.layers.Dropout(0.2),\n",
        "    tf.keras.layers.Bidirectional(CuDNNLSTM(200,return_sequences=True)),\n",
        "    tf.keras.layers.Dropout(0.2),\n",
        "    tf.keras.layers.Bidirectional(CuDNNLSTM(100,return_sequences=False)),\n",
        "    tf.keras.layers.Dense(6, activation = 'softmax')\n",
        "])"
      ],
      "metadata": {
        "id": "eeoB_5nFkUmV"
      },
      "execution_count": 41,
      "outputs": []
    },
    {
      "cell_type": "code",
      "source": [
        "model3.compile(loss='categorical_crossentropy',\n",
        "               optimizer='adam', metrics=['accuracy'])"
      ],
      "metadata": {
        "id": "qjdY9Suyk-Ij"
      },
      "execution_count": 42,
      "outputs": []
    },
    {
      "cell_type": "code",
      "source": [
        "history_model3 = model3.fit(x=X_train_padded, y= y_train,\n",
        "                    epochs=25,\n",
        "                    steps_per_epoch=50, batch_size=120,\n",
        "                    validation_data=(X_validation_padded, y_validation),\n",
        "                    callbacks=callback)"
      ],
      "metadata": {
        "colab": {
          "base_uri": "https://localhost:8080/"
        },
        "id": "9e6yxWwjsL4P",
        "outputId": "43049ccd-6f05-43f8-e0cf-75a0f6a30220"
      },
      "execution_count": 43,
      "outputs": [
        {
          "output_type": "stream",
          "name": "stdout",
          "text": [
            "Epoch 1/25\n",
            "50/50 [==============================] - 17s 207ms/step - loss: 1.4484 - accuracy: 0.4428 - val_loss: 1.3724 - val_accuracy: 0.4845\n",
            "Epoch 2/25\n",
            "50/50 [==============================] - 9s 191ms/step - loss: 1.2110 - accuracy: 0.5533 - val_loss: 1.4295 - val_accuracy: 0.4490\n",
            "Epoch 3/25\n",
            "50/50 [==============================] - 9s 188ms/step - loss: 1.0921 - accuracy: 0.5922 - val_loss: 1.1415 - val_accuracy: 0.5760\n",
            "Epoch 4/25\n",
            "50/50 [==============================] - 9s 184ms/step - loss: 0.9514 - accuracy: 0.6540 - val_loss: 1.0600 - val_accuracy: 0.5950\n",
            "Epoch 5/25\n",
            "50/50 [==============================] - 9s 183ms/step - loss: 0.8562 - accuracy: 0.6885 - val_loss: 0.9760 - val_accuracy: 0.6360\n",
            "Epoch 6/25\n",
            "50/50 [==============================] - 9s 187ms/step - loss: 0.7301 - accuracy: 0.7312 - val_loss: 0.8130 - val_accuracy: 0.7120\n",
            "Epoch 7/25\n",
            "50/50 [==============================] - 9s 183ms/step - loss: 0.6555 - accuracy: 0.7555 - val_loss: 0.6305 - val_accuracy: 0.7735\n",
            "Epoch 8/25\n",
            "50/50 [==============================] - 9s 189ms/step - loss: 0.6057 - accuracy: 0.7767 - val_loss: 0.5959 - val_accuracy: 0.7905\n",
            "Epoch 9/25\n",
            "50/50 [==============================] - 9s 182ms/step - loss: 0.5437 - accuracy: 0.7951 - val_loss: 0.5481 - val_accuracy: 0.8060\n",
            "Epoch 10/25\n",
            "50/50 [==============================] - 9s 188ms/step - loss: 0.5089 - accuracy: 0.8098 - val_loss: 0.5467 - val_accuracy: 0.8075\n",
            "Epoch 11/25\n",
            "50/50 [==============================] - 9s 188ms/step - loss: 0.4640 - accuracy: 0.8220 - val_loss: 0.5909 - val_accuracy: 0.7630\n",
            "Epoch 12/25\n",
            "50/50 [==============================] - 9s 189ms/step - loss: 0.4251 - accuracy: 0.8392 - val_loss: 0.4238 - val_accuracy: 0.8430\n",
            "Epoch 13/25\n",
            "50/50 [==============================] - 9s 183ms/step - loss: 0.3995 - accuracy: 0.8473 - val_loss: 0.4266 - val_accuracy: 0.8480\n",
            "Epoch 14/25\n",
            "50/50 [==============================] - 9s 188ms/step - loss: 0.3722 - accuracy: 0.8583 - val_loss: 0.3765 - val_accuracy: 0.8530\n",
            "Epoch 15/25\n",
            "50/50 [==============================] - 9s 184ms/step - loss: 0.3628 - accuracy: 0.8578 - val_loss: 0.4217 - val_accuracy: 0.8455\n",
            "Epoch 16/25\n",
            "50/50 [==============================] - 9s 183ms/step - loss: 0.3505 - accuracy: 0.8637 - val_loss: 0.3254 - val_accuracy: 0.8770\n",
            "Epoch 17/25\n",
            "50/50 [==============================] - 9s 187ms/step - loss: 0.2949 - accuracy: 0.8823 - val_loss: 0.3212 - val_accuracy: 0.8775\n",
            "Epoch 18/25\n",
            "50/50 [==============================] - 9s 183ms/step - loss: 0.3099 - accuracy: 0.8790 - val_loss: 0.3147 - val_accuracy: 0.8855\n",
            "Epoch 19/25\n",
            "50/50 [==============================] - 9s 182ms/step - loss: 0.2865 - accuracy: 0.8922 - val_loss: 0.2743 - val_accuracy: 0.8990\n",
            "Epoch 20/25\n",
            "50/50 [==============================] - 9s 189ms/step - loss: 0.2779 - accuracy: 0.8900 - val_loss: 0.2708 - val_accuracy: 0.8900\n",
            "Epoch 21/25\n",
            "50/50 [==============================] - 9s 189ms/step - loss: 0.2905 - accuracy: 0.8870 - val_loss: 0.2564 - val_accuracy: 0.9040\n",
            "Epoch 22/25\n",
            "50/50 [==============================] - 9s 190ms/step - loss: 0.2462 - accuracy: 0.9035 - val_loss: 0.2736 - val_accuracy: 0.8885\n",
            "Epoch 23/25\n",
            "50/50 [==============================] - 9s 183ms/step - loss: 0.2471 - accuracy: 0.9022 - val_loss: 0.2831 - val_accuracy: 0.8805\n",
            "Epoch 24/25\n",
            "50/50 [==============================] - 9s 183ms/step - loss: 0.2562 - accuracy: 0.8975 - val_loss: 0.2584 - val_accuracy: 0.8940\n",
            "Epoch 25/25\n",
            "50/50 [==============================] - 9s 187ms/step - loss: 0.2157 - accuracy: 0.9100 - val_loss: 0.2398 - val_accuracy: 0.9020\n"
          ]
        }
      ]
    },
    {
      "cell_type": "code",
      "source": [
        "train_accuracy = history_model3.history['accuracy']\n",
        "validation_accuracy = history_model3.history['val_accuracy']\n",
        "epochs = range(len(train_accuracy))\n",
        "# print(epochs)\n",
        "\n",
        "plt.title(\"Training and validation accuracy\")\n",
        "plt.plot(epochs, train_accuracy, 'b', label='training_accuracy')\n",
        "plt.plot(epochs, validation_accuracy, \"r\", label=\"validation_accuracy\")\n",
        "plt.xlabel('epochs')\n",
        "plt.legend(loc=0)\n",
        "plt.figure()\n"
      ],
      "metadata": {
        "colab": {
          "base_uri": "https://localhost:8080/",
          "height": 507
        },
        "id": "0VMNHi4JlmFZ",
        "outputId": "ec27097c-db2c-4054-8984-83022fb2fd24"
      },
      "execution_count": 44,
      "outputs": [
        {
          "output_type": "execute_result",
          "data": {
            "text/plain": [
              "<Figure size 640x480 with 0 Axes>"
            ]
          },
          "metadata": {},
          "execution_count": 44
        },
        {
          "output_type": "display_data",
          "data": {
            "text/plain": [
              "<Figure size 640x480 with 1 Axes>"
            ],
            "image/png": "[encoded data removed]"
          },
          "metadata": {}
        },
        {
          "output_type": "display_data",
          "data": {
            "text/plain": [
              "<Figure size 640x480 with 0 Axes>"
            ]
          },
          "metadata": {}
        }
      ]
    },
    {
      "cell_type": "code",
      "source": [
        "#checking model's performance for the cuDNN model\n",
        "model_performance(history_model3, 'accuracy', 'val_accuracy')"
      ],
      "metadata": {
        "colab": {
          "base_uri": "https://localhost:8080/"
        },
        "id": "4RRbiBo2qQSB",
        "outputId": "f4c06b71-060c-4321-b667-82f983537042"
      },
      "execution_count": 45,
      "outputs": [
        {
          "output_type": "stream",
          "name": "stdout",
          "text": [
            "The model's accuracy score on the training data is 0.91\n",
            "The model's accuracy score on the validation data is 0.9\n"
          ]
        }
      ]
    },
    {
      "cell_type": "code",
      "source": [
        "y_pred =   np.argmax(model.predict(X_test_padded), axis  =  1)\n",
        "y_pred"
      ],
      "metadata": {
        "colab": {
          "base_uri": "https://localhost:8080/"
        },
        "id": "zdxIvqpTqrnw",
        "outputId": "3cc27fd4-c537-4f7a-fc31-f11f528e5805"
      },
      "execution_count": 46,
      "outputs": [
        {
          "output_type": "stream",
          "name": "stdout",
          "text": [
            "63/63 [==============================] - 2s 18ms/step\n"
          ]
        },
        {
          "output_type": "execute_result",
          "data": {
            "text/plain": [
              "array([4, 4, 4, ..., 2, 2, 5])"
            ]
          },
          "metadata": {},
          "execution_count": 46
        }
      ]
    },
    {
      "cell_type": "code",
      "source": [
        "y_true = np.argmax(y_test, axis=1)\n",
        "y_true"
      ],
      "metadata": {
        "colab": {
          "base_uri": "https://localhost:8080/"
        },
        "id": "ftGWn0c9s6_z",
        "outputId": "f604379b-6fe5-4844-8c70-5ec00ecb92d2"
      },
      "execution_count": 47,
      "outputs": [
        {
          "output_type": "execute_result",
          "data": {
            "text/plain": [
              "array([4, 4, 4, ..., 2, 2, 1])"
            ]
          },
          "metadata": {},
          "execution_count": 47
        }
      ]
    },
    {
      "cell_type": "code",
      "source": [
        "print(classification_report(y_true, y_pred))"
      ],
      "metadata": {
        "colab": {
          "base_uri": "https://localhost:8080/"
        },
        "id": "pGHhNv16tRvK",
        "outputId": "f1cdcc1c-ae35-476b-b908-b2965daa568a"
      },
      "execution_count": 48,
      "outputs": [
        {
          "output_type": "stream",
          "name": "stdout",
          "text": [
            "              precision    recall  f1-score   support\n",
            "\n",
            "           0       0.80      0.92      0.85       275\n",
            "           1       0.95      0.71      0.81       224\n",
            "           2       0.95      0.84      0.90       695\n",
            "           3       0.68      0.93      0.79       159\n",
            "           4       0.91      0.93      0.92       581\n",
            "           5       0.60      0.82      0.69        66\n",
            "\n",
            "    accuracy                           0.87      2000\n",
            "   macro avg       0.82      0.86      0.83      2000\n",
            "weighted avg       0.89      0.87      0.87      2000\n",
            "\n"
          ]
        }
      ]
    },
    {
      "cell_type": "code",
      "source": [
        "#testing the model\n",
        "def get_key(value):\n",
        "    dictionary={'joy':0,'anger':1,'love':2,'sadness':3,'fear':4,'surprise':5}\n",
        "    for key,val in dictionary.items():\n",
        "          if val==value:\n",
        "            return key"
      ],
      "metadata": {
        "id": "svJIwe25t70o"
      },
      "execution_count": 49,
      "outputs": []
    },
    {
      "cell_type": "code",
      "source": [
        "def testing_model(sentence):\n",
        "  sentence_to_list = []\n",
        "  sentence_to_list.append(sentence)\n",
        "  # tokenizer = Tokenizer()\n",
        "  # tokenizer.fit_on_texts(sentence_to_list)\n",
        "  sentence_sequences = tokenizer.texts_to_sequences(sentence_to_list)\n",
        "  sentence_padded = pad_sequences(sentence_sequences, maxlen=300, padding='post')\n",
        "  predicted = model3.predict(sentence_padded)\n",
        "  print(predicted)\n",
        "  predicted_sentiment = get_key(np.max(np.argmin(predicted, axis=-1)))\n",
        "  print(\"the predicted sentiment is {}\".format(predicted_sentiment))\n",
        "\n",
        "  # print(\"the predicted sentiment is\", predicted_sentiment)\n",
        "\n",
        "\n"
      ],
      "metadata": {
        "id": "UQCkWMlCiOVg"
      },
      "execution_count": 71,
      "outputs": []
    },
    {
      "cell_type": "code",
      "source": [
        "# testing_model(str(input('sentence: ')))\n",
        "testing_model(input(str('sentence:')))"
      ],
      "metadata": {
        "colab": {
          "base_uri": "https://localhost:8080/"
        },
        "id": "0JwuC_kvtrRX",
        "outputId": "2e21563f-ee99-41bb-bc6a-38d948fda9dc"
      },
      "execution_count": 72,
      "outputs": [
        {
          "output_type": "stream",
          "name": "stdout",
          "text": [
            "sentence:Are you for real?\n",
            "1/1 [==============================] - 0s 19ms/step\n",
            "[[0.17931779 0.15379134 0.43620938 0.02578877 0.19490871 0.00998407]]\n",
            "the predicted sentiment is surprise\n"
          ]
        }
      ]
    },
    {
      "cell_type": "code",
      "source": [
        "# testing_model(str(input('sentence: ')))\n",
        "testing_model(input(str('sentence:')))"
      ],
      "metadata": {
        "colab": {
          "base_uri": "https://localhost:8080/"
        },
        "id": "tAqmuzmHdJw-",
        "outputId": "4edc1164-07dd-469b-aac5-e8899d9aa142"
      },
      "execution_count": 74,
      "outputs": [
        {
          "output_type": "stream",
          "name": "stdout",
          "text": [
            "sentence:i just got robbed at the station\n",
            "1/1 [==============================] - 0s 28ms/step\n",
            "[[0.06827433 0.7729668  0.08997146 0.00226501 0.06158963 0.00493276]]\n",
            "the predicted sentiment is sadness\n"
          ]
        }
      ]
    },
    {
      "cell_type": "markdown",
      "source": [
        "> Obervation:\n",
        "\n",
        "The visualization above depict a consistent upward trend in the pattern between training and validation accuracy. This suggests that there is no evidence of overfitting in the model. Overfitting concerns have been addressed by implementing dropout mechanisms in the neural networks, effectively removing random neurons from the fully connected layers."
      ],
      "metadata": {
        "id": "baoJvdVSg2gI"
      }
    },
    {
      "cell_type": "code",
      "source": [
        "import pickle\n",
        "#saving the model\n",
        "with open('model.pkl', 'wb') as f:\n",
        "  pickle.dump(history_model3, f)"
      ],
      "metadata": {
        "id": "je__b06BOEnF"
      },
      "execution_count": 70,
      "outputs": []
    }
  ]
}